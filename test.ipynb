{
 "cells": [
  {
   "cell_type": "code",
   "execution_count": 71,
   "metadata": {},
   "outputs": [
    {
     "data": {
      "text/plain": [
       "[0, 1]"
      ]
     },
     "execution_count": 71,
     "metadata": {},
     "output_type": "execute_result"
    }
   ],
   "source": [
    "from typing import List\n",
    "\n",
    "nums = [2,7,11,15]\n",
    "# nums = [3,2,4]\n",
    "target = 9\n",
    "\n",
    "lst = []\n",
    "\n",
    "def twoSum(nums: List[int], target: int) -> List[int]:\n",
    "    for i, j in enumerate(nums):\n",
    "        x = target - j\n",
    "        if x in nums:\n",
    "            lst.append(i)\n",
    "    return lst\n",
    "            \n",
    "\n",
    "twoSum(nums, target)\n",
    "\n"
   ]
  },
  {
   "cell_type": "code",
   "execution_count": 28,
   "metadata": {},
   "outputs": [
    {
     "name": "stdout",
     "output_type": "stream",
     "text": [
      "2\n",
      "4\n",
      "2\n",
      "4\n",
      "2\n",
      "4\n"
     ]
    }
   ],
   "source": [
    "\n",
    "nums = [3,2,4]\n",
    "target = 6\n",
    "\n",
    "lst = []\n",
    "for a, b in enumerate(nums):\n",
    "    for i in x:\n",
    "        print(i)\n",
    "    # for i in x:\n",
    "    #     # print(i)\n",
    "    #     if b + i == target:\n",
    "    #         print(\"yes\")\n",
    "        # if i + b == target:\n",
    "            # print(nums.index(b), nums.index(i))\n",
    "\n",
    "\n"
   ]
  },
  {
   "cell_type": "code",
   "execution_count": 74,
   "metadata": {},
   "outputs": [
    {
     "data": {
      "text/plain": [
       "<map at 0x11018b310>"
      ]
     },
     "execution_count": 74,
     "metadata": {},
     "output_type": "execute_result"
    }
   ],
   "source": [
    "\n",
    "nums = [3,2,4]\n",
    "target = 6\n",
    "\n",
    "def adding_both(a, b):\n",
    "    return a + b\n",
    "\n",
    "def twoSum(nums: List[int], target: int) -> List[int]:\n",
    "    map(adding_both, nums)\n",
    "    yield\n",
    "\n",
    "twoSum(nums, target)"
   ]
  }
 ],
 "metadata": {
  "kernelspec": {
   "display_name": "Python 3",
   "language": "python",
   "name": "python3"
  },
  "language_info": {
   "codemirror_mode": {
    "name": "ipython",
    "version": 3
   },
   "file_extension": ".py",
   "mimetype": "text/x-python",
   "name": "python",
   "nbconvert_exporter": "python",
   "pygments_lexer": "ipython3",
   "version": "3.11.11"
  }
 },
 "nbformat": 4,
 "nbformat_minor": 2
}
