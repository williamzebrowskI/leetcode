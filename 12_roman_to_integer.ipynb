{
 "cells": [
  {
   "cell_type": "code",
   "execution_count": 38,
   "metadata": {},
   "outputs": [
    {
     "name": "stdout",
     "output_type": "stream",
     "text": [
      "['M', 'C', 'M', 'X', 'C', 'I', 'V']\n"
     ]
    },
    {
     "data": {
      "text/plain": [
       "2216"
      ]
     },
     "execution_count": 38,
     "metadata": {},
     "output_type": "execute_result"
    }
   ],
   "source": [
    "# s = \"III\"\n",
    "# s = \"LVIII\"\n",
    "s = \"MCMXCIV\"\n",
    "\n",
    "def romanToInt(s: str) -> int:\n",
    "    num = 0\n",
    "    roman = {\n",
    "    \"I\": 1,\n",
    "    \"V\": 5,\n",
    "    \"X\": 10,\n",
    "    \"L\": 50,\n",
    "    \"C\": 100,\n",
    "    \"D\": 500,\n",
    "    \"CM\": 900,\n",
    "    \"M\": 1000\n",
    "    }\n",
    "    if \"CM\" in s:\n",
    "        print(\"yep\")\n",
    "    lst = [x for x in s]\n",
    "    print(lst)\n",
    "    for i in lst:\n",
    "        if i in roman.keys():\n",
    "            val = roman.get(i)\n",
    "\n",
    "            num+=val\n",
    "            \n",
    "\n",
    "    return num\n",
    "\n",
    "romanToInt(s)"
   ]
  },
  {
   "cell_type": "code",
   "execution_count": null,
   "metadata": {},
   "outputs": [],
   "source": []
  }
 ],
 "metadata": {
  "kernelspec": {
   "display_name": "Python 3",
   "language": "python",
   "name": "python3"
  },
  "language_info": {
   "codemirror_mode": {
    "name": "ipython",
    "version": 3
   },
   "file_extension": ".py",
   "mimetype": "text/x-python",
   "name": "python",
   "nbconvert_exporter": "python",
   "pygments_lexer": "ipython3",
   "version": "3.11.11"
  }
 },
 "nbformat": 4,
 "nbformat_minor": 2
}
