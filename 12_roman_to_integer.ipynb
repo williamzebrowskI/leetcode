{
 "cells": [
  {
   "cell_type": "code",
   "execution_count": 411,
   "metadata": {},
   "outputs": [
    {
     "name": "stdout",
     "output_type": "stream",
     "text": [
      "[5, 7, 9]\n"
     ]
    }
   ],
   "source": [
    "\n",
    "s = \"MMCCCXCIX\"\n",
    "d = [\"CM\", \"IV\", \"IX\", \"XL\", \"XC\", \"CD\"]\n",
    "\n",
    "\n",
    "def get_list(s, d):\n",
    "    indices = []\n",
    "    for i in d:\n",
    "        if i in s:\n",
    "            idx = s.index(i)\n",
    "            af_idx = idx+2\n",
    "            indices.append(idx)\n",
    "            indices.append(af_idx)\n",
    "\n",
    "    sorted_lst = sorted(indices, reverse=False)\n",
    "    indices = sorted(list(set(sorted_lst)), reverse=False)\n",
    "    return indices\n",
    "\n",
    "the_list = get_list(s, d)\n",
    "print(the_list)"
   ]
  },
  {
   "cell_type": "code",
   "execution_count": 408,
   "metadata": {},
   "outputs": [],
   "source": [
    "def yep(s, indices):\n",
    "    i, j = 0, 0\n",
    "    res = []\n",
    "    \n",
    "    while i < len(s) and j < len(indices):\n",
    "        if i < indices[j]:\n",
    "            res.append(s[i])\n",
    "            i += 1\n",
    "        else:\n",
    "            res.append(\" \")\n",
    "            j += 1\n",
    "\n",
    "    if i < len(s):\n",
    "        res.append(s[i:])\n",
    "\n",
    "    print(\"\".join(res))\n",
    "    \n",
    "    return \"\".join(res)\n",
    "\n"
   ]
  },
  {
   "cell_type": "code",
   "execution_count": 409,
   "metadata": {},
   "outputs": [
    {
     "name": "stdout",
     "output_type": "stream",
     "text": [
      "MMCCC XC IX\n",
      "MMCCC XC IX\n"
     ]
    }
   ],
   "source": [
    "\n",
    "this_is_it = yep(s, the_list)\n",
    "new_lst = this_is_it.split(\" \")\n",
    "\n",
    "print(this_is_it)"
   ]
  },
  {
   "cell_type": "code",
   "execution_count": 410,
   "metadata": {},
   "outputs": [
    {
     "name": "stdout",
     "output_type": "stream",
     "text": [
      "M\n",
      "M\n",
      "C\n",
      "C\n",
      "C\n"
     ]
    },
    {
     "data": {
      "text/plain": [
       "2399"
      ]
     },
     "execution_count": 410,
     "metadata": {},
     "output_type": "execute_result"
    }
   ],
   "source": [
    "from typing import List\n",
    "\n",
    "\n",
    "def romanToInt(new_lst: List) -> int:\n",
    "    num = 0\n",
    "    roman = {\n",
    "        \"I\": 1,\n",
    "        \"IV\": 4,\n",
    "        \"V\": 5,\n",
    "        \"IX\": 9,\n",
    "        \"X\": 10,\n",
    "        \"XL\": 40,\n",
    "        \"L\": 50,\n",
    "        \"XC\": 90,\n",
    "        \"C\": 100,\n",
    "        \"CD\": 400,\n",
    "        \"D\": 500,\n",
    "        \"CM\": 900,\n",
    "        \"M\": 1000\n",
    "    }\n",
    "\n",
    "\n",
    "    for i in new_lst:\n",
    "        if i in roman.keys():\n",
    "            val = roman.get(i)\n",
    "            num+=val\n",
    "        else:\n",
    "            for i in i:\n",
    "                val = roman.get(i)\n",
    "                num+=val\n",
    "\n",
    "    return num\n",
    "\n",
    "romanToInt(new_lst)"
   ]
  }
 ],
 "metadata": {
  "kernelspec": {
   "display_name": "Python 3",
   "language": "python",
   "name": "python3"
  },
  "language_info": {
   "codemirror_mode": {
    "name": "ipython",
    "version": 3
   },
   "file_extension": ".py",
   "mimetype": "text/x-python",
   "name": "python",
   "nbconvert_exporter": "python",
   "pygments_lexer": "ipython3",
   "version": "3.11.11"
  }
 },
 "nbformat": 4,
 "nbformat_minor": 2
}
